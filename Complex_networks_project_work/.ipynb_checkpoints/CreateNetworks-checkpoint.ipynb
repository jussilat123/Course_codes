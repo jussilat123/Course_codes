{
 "cells": [
  {
   "cell_type": "code",
   "execution_count": 1,
   "id": "piano-heating",
   "metadata": {},
   "outputs": [],
   "source": [
    "import networkx as nx\n",
    "import numpy as np\n",
    "import matplotlib.pyplot as plt"
   ]
  },
  {
   "cell_type": "code",
   "execution_count": 2,
   "id": "individual-terminal",
   "metadata": {},
   "outputs": [],
   "source": [
    "#import Email dataset and make it undirected\n",
    "edge_list_np = np.loadtxt('email-Eu-core.txt', dtype=int)\n",
    "attributes  = np.loadtxt('email-Eu-core-department-labels.txt',dtype = int)\n",
    "\n",
    "attr_dict = {}\n",
    "for pair in attributes:\n",
    "    \n",
    "    attr_dict[pair[0]] = pair[1]\n",
    "    \n",
    "\n",
    "G = nx.from_edgelist(edge_list_np)\n",
    "len(G.nodes())\n",
    "H = nx.DiGraph()\n",
    "H.add_edges_from(edge_list_np)\n",
    "nx.set_node_attributes(H,attr_dict,'department')\n",
    "H.in_degree()\n",
    "G.degree()\n",
    "H.adjacency()\n",
    "    \n",
    "Emails = H.to_undirected(reciprocal=True)\n",
    "node_data = Emails.nodes(data=True)"
   ]
  },
  {
   "cell_type": "code",
   "execution_count": 3,
   "id": "happy-dependence",
   "metadata": {},
   "outputs": [
    {
     "data": {
      "text/plain": [
       "Text(0, 0.5, 'p')"
      ]
     },
     "execution_count": 3,
     "metadata": {},
     "output_type": "execute_result"
    },
    {
     "data": {
      "image/png": "[encoded data removed]",
      "text/plain": [
       "<Figure size 432x288 with 1 Axes>"
      ]
     },
     "metadata": {
      "needs_background": "light"
     },
     "output_type": "display_data"
    }
   ],
   "source": [
    "#in degrees in directed network\n",
    "\n",
    "k_i = sorted([degree for node, degree in H.in_degree()])\n",
    "from collections import Counter\n",
    "\n",
    "degreeCount = Counter(k_i)\n",
    "degrees, counts = zip(*degreeCount.items())\n",
    "\n",
    "#counts = np.array(counts)/100\n",
    "\n",
    "plt.bar(degrees, counts,)\n",
    "plt.title('Emails')\n",
    "plt.xlabel('in_degree $k$', fontsize=14)\n",
    "plt.ylabel('p', fontsize=14)"
   ]
  },
  {
   "cell_type": "code",
   "execution_count": 4,
   "id": "entitled-thursday",
   "metadata": {},
   "outputs": [
    {
     "data": {
      "text/plain": [
       "Text(0, 0.5, 'p')"
      ]
     },
     "execution_count": 4,
     "metadata": {},
     "output_type": "execute_result"
    },
    {
     "data": {
      "image/png": "[encoded data removed]",
      "text/plain": [
       "<Figure size 432x288 with 1 Axes>"
      ]
     },
     "metadata": {
      "needs_background": "light"
     },
     "output_type": "display_data"
    }
   ],
   "source": [
    "#out degrees in directed network\n",
    "\n",
    "k_i = sorted([degree for node, degree in H.out_degree()])\n",
    "from collections import Counter\n",
    "\n",
    "degreeCount = Counter(k_i)\n",
    "degrees, counts = zip(*degreeCount.items())\n",
    "\n",
    "#counts = np.array(counts)/100\n",
    "\n",
    "plt.bar(degrees, counts,)\n",
    "plt.title('Emails')\n",
    "plt.xlabel('Out_degree $k$', fontsize=14)\n",
    "plt.ylabel('p', fontsize=14)"
   ]
  },
  {
   "cell_type": "code",
   "execution_count": 5,
   "id": "magnetic-still",
   "metadata": {},
   "outputs": [
    {
     "data": {
      "text/plain": [
       "Text(0, 0.5, 'p')"
      ]
     },
     "execution_count": 5,
     "metadata": {},
     "output_type": "execute_result"
    },
    {
     "data": {
      "image/png": "[encoded data removed]",
      "text/plain": [
       "<Figure size 432x288 with 1 Axes>"
      ]
     },
     "metadata": {
      "needs_background": "light"
     },
     "output_type": "display_data"
    }
   ],
   "source": [
    "#degrees in undirected network\n",
    "\n",
    "k_i = sorted([degree for node, degree in Emails.degree()])\n",
    "from collections import Counter\n",
    "\n",
    "degreeCount = Counter(k_i)\n",
    "degrees, counts = zip(*degreeCount.items())\n",
    "\n",
    "#counts = np.array(counts)/100\n",
    "\n",
    "plt.bar(degrees, counts,)\n",
    "plt.title('Emails')\n",
    "plt.xlabel('degree $k$', fontsize=14)\n",
    "plt.ylabel('p', fontsize=14)"
   ]
  },
  {
   "cell_type": "code",
   "execution_count": 6,
   "id": "contrary-iceland",
   "metadata": {},
   "outputs": [
    {
     "name": "stdout",
     "output_type": "stream",
     "text": [
      "1005\n",
      "9507\n",
      "776\n"
     ]
    },
    {
     "data": {
      "text/plain": [
       "9447"
      ]
     },
     "execution_count": 6,
     "metadata": {},
     "output_type": "execute_result"
    }
   ],
   "source": [
    "print(len(Emails.nodes()))\n",
    "print(len(Emails.edges()))\n",
    "#result = nx.k_components(Emails)\n",
    "#print(result)\n",
    "giant = max(nx.connected_components(Emails), key=len)\n",
    "#print(giant)\n",
    "#print(len(giant))\n",
    "Emails_connected = Emails.subgraph(giant)\n",
    "print(len(Emails_connected.nodes()))\n",
    "len(Emails_connected.edges())"
   ]
  },
  {
   "cell_type": "code",
   "execution_count": 7,
   "id": "objective-confidence",
   "metadata": {},
   "outputs": [
    {
     "name": "stdout",
     "output_type": "stream",
     "text": [
      "1\n"
     ]
    },
    {
     "data": {
      "text/plain": [
       "Text(0, 0.5, 'p')"
      ]
     },
     "execution_count": 7,
     "metadata": {},
     "output_type": "execute_result"
    },
    {
     "data": {
      "image/png": "[encoded data removed]",
      "text/plain": [
       "<Figure size 432x288 with 1 Axes>"
      ]
     },
     "metadata": {
      "needs_background": "light"
     },
     "output_type": "display_data"
    }
   ],
   "source": [
    "k_i = sorted([degree for node, degree in Emails_connected.degree()])\n",
    "from collections import Counter\n",
    "\n",
    "\n",
    "degreeCount = Counter(k_i)\n",
    "print(degreeCount[80])\n",
    "degrees, counts = zip(*degreeCount.items())\n",
    "\n",
    "#counts = np.array(counts)/100\n",
    "\n",
    "plt.bar(degrees, counts,)\n",
    "plt.title('N = 100,p = 0.20')\n",
    "plt.xlabel('degree $k$', fontsize=14)\n",
    "plt.ylabel('p', fontsize=14)"
   ]
  },
  {
   "cell_type": "code",
   "execution_count": 8,
   "id": "hidden-matrix",
   "metadata": {},
   "outputs": [
    {
     "data": {
      "image/png": "[encoded data removed]",
      "text/plain": [
       "<Figure size 432x288 with 1 Axes>"
      ]
     },
     "metadata": {
      "needs_background": "light"
     },
     "output_type": "display_data"
    }
   ],
   "source": [
    "def plot_ccdf(data, ax, label=None):\n",
    "    sorted_vals = np.sort(np.unique(data))\n",
    "    ccdf = np.zeros(len(sorted_vals))\n",
    "    n = float(len(data))\n",
    "    for i, val in enumerate(sorted_vals):\n",
    "        ccdf[i] = np.sum(data >= val)/n\n",
    "    ax.plot(sorted_vals, ccdf, \".\", label=label)\n",
    "    ax.set_yscale('log')\n",
    "    ax.set_xscale('log')\n",
    "    ax.set_xlabel(\"x\")\n",
    "    ax.set_ylabel(\"1 - CDF(x)\")\n",
    "\n",
    "\n",
    "degrees = [d for n, d in Emails_connected.degree()]\n",
    "fig, ax = plt.subplots()\n",
    "plot_ccdf(degrees, ax, label=None)"
   ]
  },
  {
   "cell_type": "code",
   "execution_count": 11,
   "id": "numerical-surveillance",
   "metadata": {},
   "outputs": [],
   "source": [
    "#save graph into adjlist\n",
    "nx.write_gexf(Emails_connected, \"Emails_connected.gexf\")\n",
    "#save graph into edgelist\n",
    "nx.write_edgelist(Emails_connected,\"Emails_connected.txt\")"
   ]
  },
  {
   "cell_type": "code",
   "execution_count": 33,
   "id": "conceptual-mobility",
   "metadata": {},
   "outputs": [
    {
     "data": {
      "text/plain": [
       "([<matplotlib.axis.XTick at 0x201ed4f6688>,\n",
       "  <matplotlib.axis.XTick at 0x201ed453548>,\n",
       "  <matplotlib.axis.XTick at 0x201ed450ac8>,\n",
       "  <matplotlib.axis.XTick at 0x201ed8d1648>,\n",
       "  <matplotlib.axis.XTick at 0x201ed8d1c08>,\n",
       "  <matplotlib.axis.XTick at 0x201ed8d4448>,\n",
       "  <matplotlib.axis.XTick at 0x201ed8d4bc8>,\n",
       "  <matplotlib.axis.XTick at 0x201ed8da308>,\n",
       "  <matplotlib.axis.XTick at 0x201ed8dae48>,\n",
       "  <matplotlib.axis.XTick at 0x201ed8dd988>,\n",
       "  <matplotlib.axis.XTick at 0x201ed8e1608>,\n",
       "  <matplotlib.axis.XTick at 0x201ed8e4208>,\n",
       "  <matplotlib.axis.XTick at 0x201ed8e4dc8>,\n",
       "  <matplotlib.axis.XTick at 0x201ed8da348>,\n",
       "  <matplotlib.axis.XTick at 0x201ed8e8708>,\n",
       "  <matplotlib.axis.XTick at 0x201ed8ea188>,\n",
       "  <matplotlib.axis.XTick at 0x201ed8eabc8>,\n",
       "  <matplotlib.axis.XTick at 0x201ed8f0688>,\n",
       "  <matplotlib.axis.XTick at 0x201ed8f3288>,\n",
       "  <matplotlib.axis.XTick at 0x201ed8f3e48>,\n",
       "  <matplotlib.axis.XTick at 0x201ed8f6a48>,\n",
       "  <matplotlib.axis.XTick at 0x201ed8fa648>],\n",
       " [Text(0, 0, ''),\n",
       "  Text(0, 0, ''),\n",
       "  Text(0, 0, ''),\n",
       "  Text(0, 0, ''),\n",
       "  Text(0, 0, ''),\n",
       "  Text(0, 0, ''),\n",
       "  Text(0, 0, ''),\n",
       "  Text(0, 0, ''),\n",
       "  Text(0, 0, ''),\n",
       "  Text(0, 0, ''),\n",
       "  Text(0, 0, ''),\n",
       "  Text(0, 0, ''),\n",
       "  Text(0, 0, ''),\n",
       "  Text(0, 0, ''),\n",
       "  Text(0, 0, ''),\n",
       "  Text(0, 0, ''),\n",
       "  Text(0, 0, ''),\n",
       "  Text(0, 0, ''),\n",
       "  Text(0, 0, ''),\n",
       "  Text(0, 0, ''),\n",
       "  Text(0, 0, ''),\n",
       "  Text(0, 0, '')])"
      ]
     },
     "execution_count": 33,
     "metadata": {},
     "output_type": "execute_result"
    },
    {
     "data": {
      "image/png": "[encoded data removed]",
      "text/plain": [
       "<Figure size 432x288 with 1 Axes>"
      ]
     },
     "metadata": {
      "needs_background": "light"
     },
     "output_type": "display_data"
    }
   ],
   "source": [
    "#take the connected component attributes and make a histogram of them.\n",
    "Emails_connected_departments = []\n",
    "Emails_connected_attributes = []\n",
    "for node in Emails_connected.nodes(data=True):\n",
    "    Emails_connected_departments.append(node[1]['department'])\n",
    "    Emails_connected_attributes.append((int(node[0]),int(node[1]['department'])))\n",
    "custom_bins = []\n",
    "for i in range(42):\n",
    "    custom_bins.append(i-0.5)\n",
    "plt.hist(Emails_connected_departments,bins = custom_bins)\n",
    "plt.xticks([0,2,4,6,8,10,12,14,16,18,20,22,24,26,28,30,32,34,36,38,40,42])"
   ]
  },
  {
   "cell_type": "code",
   "execution_count": 35,
   "id": "practical-resort",
   "metadata": {},
   "outputs": [],
   "source": [
    "#save connected attributes\n",
    "np.savetxt(\"Emails_connected_attributes.txt\",np.array(Emails_connected_attributes))"
   ]
  },
  {
   "cell_type": "code",
   "execution_count": 18,
   "id": "baking-basis",
   "metadata": {},
   "outputs": [
    {
     "data": {
      "text/plain": [
       "[(4, 109),\n",
       " (14, 92),\n",
       " (1, 65),\n",
       " (21, 61),\n",
       " (15, 55),\n",
       " (7, 51),\n",
       " (0, 49),\n",
       " (10, 39),\n",
       " (17, 35),\n",
       " (9, 32),\n",
       " (11, 29),\n",
       " (19, 29),\n",
       " (6, 28),\n",
       " (23, 27),\n",
       " (13, 26),\n",
       " (16, 25),\n",
       " (22, 25),\n",
       " (36, 22),\n",
       " (8, 19),\n",
       " (5, 18),\n",
       " (37, 15),\n",
       " (20, 14),\n",
       " (34, 13),\n",
       " (35, 13),\n",
       " (38, 13),\n",
       " (3, 12),\n",
       " (2, 10),\n",
       " (27, 10),\n",
       " (26, 9),\n",
       " (32, 9),\n",
       " (28, 8),\n",
       " (31, 8),\n",
       " (24, 6),\n",
       " (25, 6),\n",
       " (29, 5),\n",
       " (30, 4),\n",
       " (40, 4),\n",
       " (12, 3),\n",
       " (39, 3),\n",
       " (41, 2),\n",
       " (18, 1),\n",
       " (33, 1)]"
      ]
     },
     "execution_count": 18,
     "metadata": {},
     "output_type": "execute_result"
    }
   ],
   "source": [
    "from collections import Counter\n",
    "\n",
    "degreeCount = Counter(sorted(attributes[:,1]))\n",
    "degrees, counts = zip(*degreeCount.items())\n",
    "sorted(degreeCount.items())\n",
    "degreeCount.most_common()"
   ]
  }
 ],
 "metadata": {
  "kernelspec": {
   "display_name": "Python 3",
   "language": "python",
   "name": "python3"
  },
  "language_info": {
   "codemirror_mode": {
    "name": "ipython",
    "version": 3
   },
   "file_extension": ".py",
   "mimetype": "text/x-python",
   "name": "python",
   "nbconvert_exporter": "python",
   "pygments_lexer": "ipython3",
   "version": "3.7.9"
  }
 },
 "nbformat": 4,
 "nbformat_minor": 5
}
